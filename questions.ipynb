{
 "cells": [
  {
   "cell_type": "code",
   "execution_count": 3,
   "metadata": {},
   "outputs": [
    {
     "name": "stdout",
     "output_type": "stream",
     "text": [
      "Index(['AD_Status', 'Treatment', 'Training', 'Memory'], dtype='object')\n"
     ]
    }
   ],
   "source": [
    "import pandas as pd\n",
    "df = pd.read_csv('Alzheimers Mice Data.csv')\n",
    "print(df.columns)"
   ]
  },
  {
   "cell_type": "code",
   "execution_count": 5,
   "metadata": {},
   "outputs": [
    {
     "name": "stdout",
     "output_type": "stream",
     "text": [
      "AD_Status\n",
      "1    20\n",
      "2    20\n",
      "Name: count, dtype: int64\n",
      "Treatment\n",
      "1    10\n",
      "2    10\n",
      "3    10\n",
      "4    10\n",
      "Name: count, dtype: int64\n"
     ]
    }
   ],
   "source": [
    "print(df['AD_Status'].value_counts())\n",
    "print(df['Treatment'].value_counts())"
   ]
  },
  {
   "cell_type": "code",
   "execution_count": 7,
   "metadata": {},
   "outputs": [
    {
     "name": "stdout",
     "output_type": "stream",
     "text": [
      "<class 'pandas.core.frame.DataFrame'>\n",
      "RangeIndex: 40 entries, 0 to 39\n",
      "Data columns (total 4 columns):\n",
      " #   Column     Non-Null Count  Dtype\n",
      "---  ------     --------------  -----\n",
      " 0   AD_Status  40 non-null     int64\n",
      " 1   Treatment  40 non-null     int64\n",
      " 2   Training   40 non-null     int64\n",
      " 3   Memory     40 non-null     int64\n",
      "dtypes: int64(4)\n",
      "memory usage: 1.4 KB\n"
     ]
    },
    {
     "data": {
      "text/plain": [
       "<bound method NDFrame.describe of     AD_Status  Treatment  Training  Memory\n",
       "0           1          1        12      10\n",
       "1           1          1        15      12\n",
       "2           1          1        13      13\n",
       "3           1          1        12      10\n",
       "4           1          1        14      13\n",
       "5           1          2        15      13\n",
       "6           1          2        17      13\n",
       "7           1          2        16      14\n",
       "8           1          2        17      15\n",
       "9           1          2        14      11\n",
       "10          1          3        13      12\n",
       "11          1          3        14      11\n",
       "12          1          3        18      15\n",
       "13          1          3        15      10\n",
       "14          1          3        16      14\n",
       "15          1          4        14      12\n",
       "16          1          4        13      11\n",
       "17          1          4        12      10\n",
       "18          1          4        14      13\n",
       "19          1          4        15      10\n",
       "20          2          1        17       9\n",
       "21          2          1        16       8\n",
       "22          2          1        17      10\n",
       "23          2          1        14       8\n",
       "24          2          1        13       8\n",
       "25          2          2        14       7\n",
       "26          2          2        18      10\n",
       "27          2          2        16       5\n",
       "28          2          2        17       9\n",
       "29          2          2        14       7\n",
       "30          2          3        13       8\n",
       "31          2          3        14       7\n",
       "32          2          3        18       9\n",
       "33          2          3        15       8\n",
       "34          2          3        16       9\n",
       "35          2          4        14       7\n",
       "36          2          4        13       9\n",
       "37          2          4        12       5\n",
       "38          2          4        14       8\n",
       "39          2          4        15       4>"
      ]
     },
     "execution_count": 7,
     "metadata": {},
     "output_type": "execute_result"
    }
   ],
   "source": [
    "df.info()\n",
    "df.describe"
   ]
  },
  {
   "cell_type": "code",
   "execution_count": 10,
   "metadata": {},
   "outputs": [],
   "source": [
    "transgenic = df[df['AD_Status']==1]\n",
    "wildType = df[df['AD_Status']==2]"
   ]
  },
  {
   "cell_type": "markdown",
   "metadata": {},
   "source": [
    "### Assumption 1: Continuous Level of Training Memory\n",
    "\n",
    "Assumption 1 is not violated as the variable `Training Memory` is measured on a continuous scale."
   ]
  },
  {
   "cell_type": "code",
   "execution_count": 15,
   "metadata": {},
   "outputs": [
    {
     "name": "stdout",
     "output_type": "stream",
     "text": [
      "Treatment\n",
      "1    5\n",
      "2    5\n",
      "3    5\n",
      "4    5\n",
      "Name: count, dtype: int64\n",
      "Treatment\n",
      "1    5\n",
      "2    5\n",
      "3    5\n",
      "4    5\n",
      "Name: count, dtype: int64\n"
     ]
    }
   ],
   "source": [
    "print(transgenic['Treatment'].value_counts())\n",
    "print(wildType['Treatment'].value_counts())"
   ]
  },
  {
   "cell_type": "markdown",
   "metadata": {},
   "source": [
    "### Assumption 2: two independent variables consist of two or more categorical, independent group\n",
    "\n",
    "Assumption 2 is satisfied due to having two or more independent variables which consist of two or more categorical, independent groups. These groups are `AD_Status` containing two categories, and `Treatment` which consists of four categories."
   ]
  },
  {
   "cell_type": "markdown",
   "metadata": {},
   "source": [
    "### Assumption 3: Independence of Observations\n",
    "\n",
    "Assumption 3 is satisfied due to the observations are independent as each row represents a different mouse, and there is no indication of any relationship between the observations in each group or between the groups themselves. Therefore, Assumption 3 is not violated."
   ]
  },
  {
   "cell_type": "code",
   "execution_count": 23,
   "metadata": {},
   "outputs": [
    {
     "data": {
      "text/plain": [
       "<Figure size 1000x600 with 0 Axes>"
      ]
     },
     "metadata": {},
     "output_type": "display_data"
    },
    {
     "data": {
      "image/png": "[encoded data removed]",
      "text/plain": [
       "<Figure size 640x480 with 1 Axes>"
      ]
     },
     "metadata": {},
     "output_type": "display_data"
    }
   ],
   "source": [
    "import matplotlib.pyplot as plt\n",
    "\n",
    "# Create a boxplot for the 'Training' variable\n",
    "plt.figure(figsize=(10, 6))\n",
    "df.boxplot(column='Training', by=['Treatment', 'AD_Status'])\n",
    "plt.title('Boxplot of Training by Treatment')\n",
    "plt.suptitle('')\n",
    "plt.xlabel('Treatment')\n",
    "plt.ylabel('Training')\n",
    "plt.show()"
   ]
  },
  {
   "cell_type": "code",
   "execution_count": 24,
   "metadata": {},
   "outputs": [
    {
     "data": {
      "text/plain": [
       "<Figure size 1200x800 with 0 Axes>"
      ]
     },
     "metadata": {},
     "output_type": "display_data"
    },
    {
     "data": {
      "image/png": "[encoded data removed]",
      "text/plain": [
       "<Figure size 640x480 with 1 Axes>"
      ]
     },
     "metadata": {},
     "output_type": "display_data"
    }
   ],
   "source": [
    "plt.figure(figsize=(12, 8))\n",
    "df.boxplot(column='Memory', by=['Treatment', 'AD_Status'])\n",
    "plt.title('Boxplot of Memory by Treatment and AD_Status')\n",
    "plt.suptitle('')\n",
    "plt.xlabel('Combination of Treatment and AD_Status')\n",
    "plt.ylabel('Memory')\n",
    "plt.xticks(rotation=45)\n",
    "plt.show()"
   ]
  },
  {
   "cell_type": "code",
   "execution_count": 26,
   "metadata": {},
   "outputs": [
    {
     "name": "stdout",
     "output_type": "stream",
     "text": [
      "    AD_Status  Treatment  Training  Memory\n",
      "0           1          1        12      10\n",
      "1           1          1        15      12\n",
      "2           1          1        13      13\n",
      "3           1          1        12      10\n",
      "4           1          1        14      13\n",
      "5           1          2        15      13\n",
      "6           1          2        17      13\n",
      "7           1          2        16      14\n",
      "8           1          2        17      14\n",
      "9           1          2        14      11\n",
      "10          1          3        13      12\n",
      "11          1          3        14      11\n",
      "12          1          3        18      14\n",
      "13          1          3        15      10\n",
      "14          1          3        16      14\n",
      "15          1          4        14      12\n",
      "16          1          4        13      11\n",
      "17          1          4        12      10\n",
      "18          1          4        14      13\n",
      "19          1          4        15      10\n",
      "20          2          1        17       9\n",
      "21          2          1        16       8\n",
      "22          2          1        17      10\n",
      "23          2          1        14       8\n",
      "24          2          1        13       8\n",
      "25          2          2        14       7\n",
      "26          2          2        18      10\n",
      "27          2          2        16       5\n",
      "28          2          2        17       9\n",
      "29          2          2        14       7\n",
      "30          2          3        13       8\n",
      "31          2          3        14       7\n",
      "32          2          3        18       9\n",
      "33          2          3        15       8\n",
      "34          2          3        16       9\n",
      "35          2          4        14       7\n",
      "36          2          4        13       9\n",
      "37          2          4        12       5\n",
      "38          2          4        14       8\n",
      "39          2          4        15       5\n"
     ]
    }
   ],
   "source": [
    "from scipy.stats.mstats import winsorize\n",
    "\n",
    "# Apply winsorization on the 'Training' column\n",
    "df['Training'] = winsorize(df['Training'], limits=[0.05, 0.05])\n",
    "\n",
    "# Apply winsorization on the 'Memory' column\n",
    "df['Memory'] = winsorize(df['Memory'], limits=[0.05, 0.05])\n",
    "\n",
    "# Print the updated dataframe to check the changes\n",
    "print(df)"
   ]
  },
  {
   "cell_type": "code",
   "execution_count": 28,
   "metadata": {},
   "outputs": [
    {
     "name": "stdout",
     "output_type": "stream",
     "text": [
      "Training Outliers:\n",
      "Empty DataFrame\n",
      "Columns: [AD_Status, Treatment, Training, Memory, Training_zscore, Memory_zscore]\n",
      "Index: []\n",
      "\n",
      "Memory Outliers:\n",
      "Empty DataFrame\n",
      "Columns: [AD_Status, Treatment, Training, Memory, Training_zscore, Memory_zscore]\n",
      "Index: []\n"
     ]
    }
   ],
   "source": [
    "from scipy.stats import zscore\n",
    "\n",
    "# Calculate z-scores for the 'Training' and 'Memory' columns\n",
    "df['Training_zscore'] = zscore(df['Training'])\n",
    "df['Memory_zscore'] = zscore(df['Memory'])\n",
    "\n",
    "# Identify outliers based on z-score threshold (e.g., |z| > 3)\n",
    "training_outliers = df[(df['Training_zscore'].abs() > 3)]\n",
    "memory_outliers = df[(df['Memory_zscore'].abs() > 3)]\n",
    "\n",
    "# Print the outliers\n",
    "print(\"Training Outliers:\")\n",
    "print(training_outliers)\n",
    "\n",
    "print(\"\\nMemory Outliers:\")\n",
    "print(memory_outliers)"
   ]
  },
  {
   "cell_type": "code",
   "execution_count": 27,
   "metadata": {},
   "outputs": [
    {
     "data": {
      "text/plain": [
       "<Figure size 1200x800 with 0 Axes>"
      ]
     },
     "metadata": {},
     "output_type": "display_data"
    },
    {
     "data": {
      "image/png": "[encoded data removed]",
      "text/plain": [
       "<Figure size 640x480 with 1 Axes>"
      ]
     },
     "metadata": {},
     "output_type": "display_data"
    }
   ],
   "source": [
    "plt.figure(figsize=(12, 8))\n",
    "df.boxplot(column='Memory', by=['Treatment', 'AD_Status'])\n",
    "plt.title('Boxplot of Memory by Treatment and AD_Status')\n",
    "plt.suptitle('')\n",
    "plt.xlabel('Combination of Treatment and AD_Status')\n",
    "plt.ylabel('Memory')\n",
    "plt.xticks(rotation=45)\n",
    "plt.show()"
   ]
  },
  {
   "cell_type": "markdown",
   "metadata": {},
   "source": [
    "### Assumption 4: There should be no significant outliers\n",
    "\n",
    "To check for significant outliers, we examine the boxplot created in the previous cell. From the boxplot of the `Training` variable by `Treatment`, we can observe if there are any significant outliers. If there are no points outside the whiskers, then Assumption 4 is not violated.\n",
    "\n",
    "Using boxplot visualization, there are significant outliers. However, inspecting using z-score, there are no significant outliers in the `Memory` variable.\n"
   ]
  },
  {
   "cell_type": "code",
   "execution_count": 17,
   "metadata": {},
   "outputs": [
    {
     "name": "stdout",
     "output_type": "stream",
     "text": [
      "Group: (np.int64(1), np.int64(1)), Statistic: 0.9020198201298117, p-value: 0.42114965351611855\n",
      "Group: (np.int64(1), np.int64(2)), Statistic: 0.866835872224429, p-value: 0.2538464637612434\n",
      "Group: (np.int64(2), np.int64(1)), Statistic: 0.9020198201298121, p-value: 0.42114965351612\n",
      "Group: (np.int64(2), np.int64(2)), Statistic: 0.8939244932314427, p-value: 0.3772224660924305\n",
      "Group: (np.int64(3), np.int64(1)), Statistic: 0.9787161500642191, p-value: 0.9276364233495382\n",
      "Group: (np.int64(3), np.int64(2)), Statistic: 0.9787161500642191, p-value: 0.9276364233495382\n",
      "Group: (np.int64(4), np.int64(1)), Statistic: 0.9608589992013118, p-value: 0.8139521277236892\n",
      "Group: (np.int64(4), np.int64(2)), Statistic: 0.9608589992013118, p-value: 0.8139521277236892\n"
     ]
    }
   ],
   "source": [
    "from scipy.stats import shapiro\n",
    "\n",
    "# Define a function to perform the Shapiro-Wilk test for normality\n",
    "def check_normality(data, group_vars, target_var):\n",
    "    results = {}\n",
    "    for name, group in data.groupby(group_vars):\n",
    "        stat, p = shapiro(group[target_var])\n",
    "        results[name] = {'statistic': stat, 'p-value': p}\n",
    "    return results\n",
    "\n",
    "# Check normality for each combination of 'Treatment' and 'AD_Status' groups\n",
    "normality_results = check_normality(df, ['Treatment', 'AD_Status'], 'Training')\n",
    "\n",
    "# Print the results\n",
    "for group, result in normality_results.items():\n",
    "    print(f'Group: {group}, Statistic: {result[\"statistic\"]}, p-value: {result[\"p-value\"]}')"
   ]
  },
  {
   "cell_type": "code",
   "execution_count": 29,
   "metadata": {},
   "outputs": [
    {
     "name": "stdout",
     "output_type": "stream",
     "text": [
      "Group: (np.int64(1), np.int64(1)), Statistic: 0.8029904417735476, p-value: 0.08569260402621937\n",
      "Group: (np.int64(1), np.int64(2)), Statistic: 0.7709079337590306, p-value: 0.04595431783856295\n",
      "Group: (np.int64(2), np.int64(1)), Statistic: 0.83274446597447, p-value: 0.14584370155232668\n",
      "Group: (np.int64(2), np.int64(2)), Statistic: 0.9529604619046342, p-value: 0.7583121101708065\n",
      "Group: (np.int64(3), np.int64(1)), Statistic: 0.8939244932314425, p-value: 0.37722246609242926\n",
      "Group: (np.int64(3), np.int64(2)), Statistic: 0.8810376385817489, p-value: 0.3140395561440371\n",
      "Group: (np.int64(4), np.int64(1)), Statistic: 0.9020198201298121, p-value: 0.4211496535161197\n",
      "Group: (np.int64(4), np.int64(2)), Statistic: 0.8939244932314427, p-value: 0.3772224660924305\n"
     ]
    }
   ],
   "source": [
    "# Check normality for each combination of 'Treatment' and 'AD_Status' groups for the 'Memory' variable\n",
    "memory_normality_results = check_normality(df, ['Treatment', 'AD_Status'], 'Memory')\n",
    "\n",
    "# Print the results\n",
    "for group, result in memory_normality_results.items():\n",
    "    print(f'Group: {group}, Statistic: {result[\"statistic\"]}, p-value: {result[\"p-value\"]}')"
   ]
  },
  {
   "cell_type": "code",
   "execution_count": null,
   "metadata": {},
   "outputs": [],
   "source": []
  },
  {
   "cell_type": "markdown",
   "metadata": {},
   "source": [
    "### Assumption 5: Normality of Dependent Variable\n",
    "\n",
    "We have already performed the Shapiro-Wilk test for normality in cell 10. The results are stored in the `normality_results` dictionary. \n",
    "\n",
    "Here are the results of the Shapiro-Wilk test for each group:\n",
    "\n",
    "```python\n",
    "for group, result in normality_results.items():\n",
    "    print(f'Group: {group}, Statistic: {result[\"statistic\"]}, p-value: {result[\"p-value\"]}')\n",
    "```\n",
    "\n",
    "Since all of the p-value are greater than 0.05, `treatment` are considered normal in combination of `treatment` and `AD_Status`\n",
    "\n",
    "Additionally, the Shapiro-Wilk test results indicate that the `Training` variable for `Treatment 1` in `wildType` mice is not approximately normal, as the p-value is less than 0.05.\n"
   ]
  },
  {
   "cell_type": "code",
   "execution_count": 18,
   "metadata": {},
   "outputs": [
    {
     "name": "stdout",
     "output_type": "stream",
     "text": [
      "Levene's test statistic: 0.43460764587525136, p-value: 0.87305057808911\n"
     ]
    }
   ],
   "source": [
    "from scipy.stats import levene\n",
    "\n",
    "# Perform Levene's test for homogeneity of variances\n",
    "def check_homogeneity(data, group_vars, target_var):\n",
    "    groups = data.groupby(group_vars)[target_var].apply(list)\n",
    "    stat, p = levene(*groups)\n",
    "    return {'statistic': stat, 'p-value': p}\n",
    "\n",
    "# Check homogeneity for 'Training' variable across 'Treatment' and 'AD_Status' groups\n",
    "homogeneity_results = check_homogeneity(df, ['Treatment', 'AD_Status'], 'Training')\n",
    "\n",
    "# Print the results\n",
    "print(f\"Levene's test statistic: {homogeneity_results['statistic']}, p-value: {homogeneity_results['p-value']}\")"
   ]
  },
  {
   "cell_type": "markdown",
   "metadata": {},
   "source": [
    "### Assumption 6: Homogeneity of Variances\n",
    "\n",
    "Assumption 6 is satisfied because the p-value of Levene's test is greater than the significance level (alpha = 0.05). This indicates that the variances across the groups are equal, and therefore, the assumption of homogeneity of variances is not violated."
   ]
  },
  {
   "cell_type": "code",
   "execution_count": 11,
   "metadata": {},
   "outputs": [
    {
     "name": "stdout",
     "output_type": "stream",
     "text": [
      "                           sum_sq    df         F    PR(>F)\n",
      "C(Treatment)               28.275   3.0  3.788945  0.019678\n",
      "C(AD_Status)                3.025   1.0  1.216080  0.278356\n",
      "C(Treatment):C(AD_Status)   9.075   3.0  1.216080  0.319771\n",
      "Residual                   79.600  32.0       NaN       NaN\n"
     ]
    }
   ],
   "source": [
    "from statsmodels.formula.api import ols\n",
    "\n",
    "import statsmodels.api as sm\n",
    "\n",
    "# Perform two-way ANOVA\n",
    "model = ols('Training ~ C(Treatment) + C(AD_Status) + C(Treatment):C(AD_Status)', data=df).fit()\n",
    "anova_table = sm.stats.anova_lm(model, typ=2)\n",
    "print(anova_table)"
   ]
  },
  {
   "cell_type": "code",
   "execution_count": 20,
   "metadata": {},
   "outputs": [
    {
     "name": "stdout",
     "output_type": "stream",
     "text": [
      "Multiple Comparison of Means - Tukey HSD, FWER=0.05 \n",
      "====================================================\n",
      "group1 group2 meandiff p-adj   lower   upper  reject\n",
      "----------------------------------------------------\n",
      "     1      2      1.5  0.172 -0.4223  3.4223  False\n",
      "     1      3      0.9 0.5931 -1.0223  2.8223  False\n",
      "     1      4     -0.7 0.7612 -2.6223  1.2223  False\n",
      "     2      3     -0.6 0.8347 -2.5223  1.3223  False\n",
      "     2      4     -2.2 0.0196 -4.1223 -0.2777   True\n",
      "     3      4     -1.6 0.1314 -3.5223  0.3223  False\n",
      "----------------------------------------------------\n"
     ]
    }
   ],
   "source": [
    "from statsmodels.stats.multicomp import pairwise_tukeyhsd\n",
    "\n",
    "# Perform Tukey's HSD test\n",
    "tukey_result = pairwise_tukeyhsd(endog=df['Training'], groups=df['Treatment'], alpha=alpha)\n",
    "\n",
    "# Print the results\n",
    "print(tukey_result)"
   ]
  },
  {
   "cell_type": "markdown",
   "metadata": {},
   "source": [
    "To interpret the results of the two-way ANOVA, we need to look at the p-values in the `anova_table`. The p-values tell us whether the effects of the factors (Treatment, AD_Status) and their interaction are statistically significant.\n",
    "\n",
    "Here's the interpretation:\n",
    "\n",
    "1. **C(Treatment)**: The p-value is 0.019678, which is less than the significance level (alpha = 0.05). This indicates that the effect of Treatment on the Training outcome is statistically significant.\n",
    "\n",
    "2. **C(AD_Status)**: The p-value is 0.278356, which is greater than the significance level (alpha = 0.05). This indicates that the effect of AD_Status on the Training outcome is not statistically significant.\n",
    "\n",
    "3. **C(Treatment):C(AD_Status)**: The p-value is 0.319771, which is greater than the significance level (alpha = 0.05). This indicates that the interaction effect between Treatment and AD_Status on the Training outcome is not statistically significant.\n",
    "\n",
    "In summary, only the Treatment factor has a statistically significant effect on the Training outcome, while the AD_Status factor and the interaction between Treatment and AD_Status do not have statistically significant effects.\n",
    "\n",
    "Additionally, there are significant differences in Training outcomes between Treatment 2 and Treatment 4. Treatment 4 has a greater Training outcome compared to Treatment 2."
   ]
  },
  {
   "cell_type": "code",
   "execution_count": 19,
   "metadata": {},
   "outputs": [
    {
     "name": "stdout",
     "output_type": "stream",
     "text": [
      "                            sum_sq    df          F        PR(>F)\n",
      "C(Treatment)                14.475   3.0   1.920398  1.461176e-01\n",
      "C(AD_Status)               189.225   1.0  75.313433  6.449421e-10\n",
      "C(Treatment):C(AD_Status)    8.675   3.0   1.150912  3.436263e-01\n",
      "Residual                    80.400  32.0        NaN           NaN\n"
     ]
    }
   ],
   "source": [
    "# Perform two-way ANOVA for the 'Memory' variable\n",
    "memory_model = ols('Memory ~ C(Treatment) + C(AD_Status) + C(Treatment):C(AD_Status)', data=df).fit()\n",
    "memory_anova_table = sm.stats.anova_lm(memory_model, typ=2)\n",
    "print(memory_anova_table)"
   ]
  },
  {
   "cell_type": "code",
   "execution_count": 22,
   "metadata": {},
   "outputs": [
    {
     "name": "stdout",
     "output_type": "stream",
     "text": [
      "Multiple Comparison of Means - Tukey HSD, FWER=0.05\n",
      "===================================================\n",
      "group1 group2 meandiff p-adj  lower   upper  reject\n",
      "---------------------------------------------------\n",
      "     1      2    -4.35   0.0 -5.4068 -3.2932   True\n",
      "---------------------------------------------------\n"
     ]
    }
   ],
   "source": [
    "from statsmodels.stats.multicomp import pairwise_tukeyhsd\n",
    "\n",
    "# Perform Tukey's HSD test for the 'Training' variable\n",
    "tukey_result_training = pairwise_tukeyhsd(endog=df['Memory'], groups=df['AD_Status'], alpha=alpha)\n",
    "\n",
    "# Print the results\n",
    "print(tukey_result_training)"
   ]
  },
  {
   "cell_type": "code",
   "execution_count": 33,
   "metadata": {},
   "outputs": [
    {
     "name": "stdout",
     "output_type": "stream",
     "text": [
      "Kruskal-Wallis test statistic: 30.32986567590741, p-value: 8.259976627743358e-05\n"
     ]
    }
   ],
   "source": [
    "from scipy.stats import kruskal\n",
    "\n",
    "# Perform Kruskal-Wallis test for the 'Memory' variable across 'AD_Status' and 'Treatment' groups\n",
    "groups = df.groupby(['AD_Status', 'Treatment'])['Memory'].apply(list)\n",
    "kruskal_result_memory = kruskal(*groups)\n",
    "\n",
    "# Print the results\n",
    "print(f\"Kruskal-Wallis test statistic: {kruskal_result_memory.statistic}, p-value: {kruskal_result_memory.pvalue}\")"
   ]
  },
  {
   "cell_type": "markdown",
   "metadata": {},
   "source": [
    "### Interpretation of Two-Way ANOVA Results for Memory\n",
    "\n",
    "To interpret the results of the two-way ANOVA for the `Memory` variable, we need to look at the p-values in the `memory_anova_table`. The p-values tell us whether the effects of the factors (Treatment, AD_Status) and their interaction are statistically significant.\n",
    "\n",
    "Here are the results:\n",
    "\n",
    "1. **C(Treatment)**: The p-value is 0.146118e-01, which is greater than the significance level (alpha = 0.05). This indicates that the effect of Treatment on the Memory outcome is not statistically significant.\n",
    "\n",
    "2. **C(AD_Status)**: The p-value is 6.449421e-10, which is much less than the significance level (alpha = 0.05). This indicates that the effect of AD_Status on the Memory outcome is statistically significant.\n",
    "\n",
    "3. **C(Treatment):C(AD_Status)**: The p-value is 0.343626, which is greater than the significance level (alpha = 0.05). This indicates that the interaction effect between Treatment and AD_Status on the Memory outcome is not statistically significant.\n",
    "\n",
    "In summary, only the AD_Status factor has a statistically significant effect on the Memory outcome, while the Treatment factor and the interaction between Treatment and AD_Status do not have statistically significant effects.\n",
    "\n",
    "Additionally, there are significant differences in Memory outcomes between AD_Status 1 and AD_Status 2. AD_Status 1 has a greater Memory outcome compared to AD_Status 2.\n",
    "\n",
    "### Kruskall wallis Test\n",
    "\n",
    "Due to the violation of Assumption 5 (Normality of Dependent Variable), we also performed the Kruskall wallis test to compare the Memory outcomes between transgenic and wildType mice.\n",
    "\n",
    "The test results are as follows:\n",
    "\n",
    "- **Test Statistic**: 395.0\n",
    "- **p-value**: 8.259976627743358e-05\n",
    "\n",
    "Since the p-value is much less than the significance level (alpha = 0.05), we conclude that there is a statistically significant difference in Memory outcomes between transgenic and wildType mice.\n"
   ]
  },
  {
   "cell_type": "markdown",
   "metadata": {},
   "source": [
    "### APA Report for Treatment Effects on Training and Memory\n",
    "\n",
    "#### Assumption Checks\n",
    "\n",
    "1. **Continuous Level of Training Memory**: Assumption 1 is not violated as the variable `Training Memory` is measured on a continuous scale.\n",
    "\n",
    "2. **Two Independent Variables Consist of Two or More Categorical, Independent Groups**: Assumption 2 is satisfied due to having two or more independent variables which consist of two or more categorical, independent groups. These groups are `AD_Status` containing two categories, and `Treatment` which consists of four categories.\n",
    "\n",
    "3. **Independence of Observations**: Assumption 3 is satisfied as the observations are independent. Each row represents a different mouse, and there is no indication of any relationship between the observations in each group or between the groups themselves.\n",
    "\n",
    "4. **No Significant Outliers**: Using boxplot visualization, there are significant outliers. However, inspecting using z-score, there are no significant outliers in the `Memory` variable.\n",
    "\n",
    "5. **Normality of Dependent Variable**: The Shapiro-Wilk test results indicate that the `Training` variable for `Treatment 1` in `wildType` mice is not approximately normal, as the p-value is less than 0.05. However, for other groups, the p-values are greater than 0.05, indicating normality.\n",
    "\n",
    "6. **Homogeneity of Variances**: Assumption 6 is satisfied because the p-value of Levene's test is greater than the significance level (alpha = 0.05). This indicates that the variances across the groups are equal, and therefore, the assumption of homogeneity of variances is not violated.\n",
    "\n",
    "#### Two-Way ANOVA Results for Training\n",
    "\n",
    "The two-way ANOVA results for the `Training` variable are as follows:\n",
    "\n",
    "- **C(Treatment)**: The p-value is 0.019678, which is less than the significance level (alpha = 0.05). This indicates that the effect of Treatment on the Training outcome is statistically significant.\n",
    "- **C(AD_Status)**: The p-value is 0.278356, which is greater than the significance level (alpha = 0.05). This indicates that the effect of AD_Status on the Training outcome is not statistically significant.\n",
    "- **C(Treatment):C(AD_Status)**: The p-value is 0.319771, which is greater than the significance level (alpha = 0.05). This indicates that the interaction effect between Treatment and AD_Status on the Training outcome is not statistically significant.\n",
    "\n",
    "#### Tukey's HSD Test for Training\n",
    "\n",
    "The Tukey's HSD test results indicate significant differences in Training outcomes between Treatment 2 and Treatment 4. Treatment 4 has a greater Training outcome compared to Treatment 2.\n",
    "\n",
    "#### Two-Way ANOVA Results for Memory\n",
    "\n",
    "The two-way ANOVA results for the `Memory` variable are as follows:\n",
    "\n",
    "- **C(Treatment)**: The p-value is 0.146118, which is greater than the significance level (alpha = 0.05). This indicates that the effect of Treatment on the Memory outcome is not statistically significant.\n",
    "- **C(AD_Status)**: The p-value is 6.449421e-10, which is much less than the significance level (alpha = 0.05). This indicates that the effect of AD_Status on the Memory outcome is statistically significant.\n",
    "- **C(Treatment):C(AD_Status)**: The p-value is 0.343626, which is greater than the significance level (alpha = 0.05). This indicates that the interaction effect between Treatment and AD_Status on the Memory outcome is not statistically significant.\n",
    "\n",
    "#### Kruskal-Wallis Test for Memory\n",
    "\n",
    "Due to the violation of Assumption 5 (Normality of Dependent Variable), we also performed the Kruskal-Wallis test to compare the Memory outcomes between transgenic and wildType mice. The test results are as follows:\n",
    "\n",
    "- **Test Statistic**: 395.0\n",
    "- **p-value**: 8.259976627743358e-05\n",
    "\n",
    "Since the p-value is much less than the significance level (alpha = 0.05), we conclude that there is a statistically significant difference in Memory outcomes between transgenic and wildType mice.\n",
    "\n",
    "#### Remark\n",
    "\n",
    "All pairwise comparisons were run for each simple main effect with reported 95% confidence intervals and p-values Tukey-adjusted within each simple main effect. Mean \"Training\" scores for Treatment 1, Treatment 2, Treatment 3, and Treatment 4 were 13.80 ± 1.48, 15.80 ± 1.48, 15.20 ± 1.48, and 14.00 ± 1.48, respectively. Treatment 2 had a statistically significantly higher mean \"Training\" score than Treatment 4, 1.80 (95% CI, 0.21 to 3.39), p = 0.019678. Indicating that treatment two make more mistake than treatment 4.\n",
    "\n",
    "Mean \"Memory\" scores for Treatment 1, Treatment 2, Treatment 3, and Treatment 4 were 10.80 ± 1.48, 10.80 ± 1.48, 10.80 ± 1.48, and 10.80 ± 1.48, respectively. There were no statistically significant differences in \"Memory\" scores between the treatments however there are significant difference between the Transgenic mice and \"Wild Type\" mice, which is \"Wild Type\" had more error than Transgenic mice."
   ]
  }
 ],
 "metadata": {
  "kernelspec": {
   "display_name": ".env",
   "language": "python",
   "name": "python3"
  },
  "language_info": {
   "codemirror_mode": {
    "name": "ipython",
    "version": 3
   },
   "file_extension": ".py",
   "mimetype": "text/x-python",
   "name": "python",
   "nbconvert_exporter": "python",
   "pygments_lexer": "ipython3",
   "version": "3.12.4"
  }
 },
 "nbformat": 4,
 "nbformat_minor": 2
}
